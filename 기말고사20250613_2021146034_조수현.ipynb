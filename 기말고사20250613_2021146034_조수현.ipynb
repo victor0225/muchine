{
  "nbformat": 4,
  "nbformat_minor": 0,
  "metadata": {
    "colab": {
      "provenance": [],
      "gpuType": "T4"
    },
    "kernelspec": {
      "name": "python3",
      "display_name": "Python 3"
    },
    "language_info": {
      "name": "python"
    },
    "accelerator": "GPU"
  },
  "cells": [
    {
      "cell_type": "markdown",
      "source": [
        "# **기말고사(20250613)**\n",
        "학번 : 2021146034            \n",
        "성명 : 조수현"
      ],
      "metadata": {
        "id": "HLN-R2JwLOcg"
      }
    },
    {
      "cell_type": "markdown",
      "source": [
        "# **문제 1) ANN Backpropagation**"
      ],
      "metadata": {
        "id": "3V4YGpkZ9CuX"
      }
    },
    {
      "cell_type": "code",
      "source": [
        "# Back-propagation of ANN with numpy\n",
        "import numpy as np\n",
        "import matplotlib.pyplot as plt\n",
        "\n",
        "# Data Generation\n",
        "np.random.seed(0)\n",
        "num_samples = 300\n",
        "\n",
        "x1 = np.random.uniform(0, 1, num_samples)\n",
        "x2 = np.random.uniform(0, 1, num_samples)\n",
        "x3 = np.random.uniform(0, 1, num_samples)\n",
        "\n",
        "# Target\n",
        "y = 3 * x1 - 2 * x2 + x3\n",
        "# input\n",
        "X = np.column_stack((x1, x2, x3))"
      ],
      "metadata": {
        "id": "VO7UTX1B8yYV"
      },
      "execution_count": 148,
      "outputs": []
    },
    {
      "cell_type": "markdown",
      "source": [
        "가중치 bias sigmoid 선언"
      ],
      "metadata": {
        "id": "y4cu_2d1xSLQ"
      }
    },
    {
      "cell_type": "code",
      "source": [
        "hidden_layer_size = 4\n",
        "input_layer_size = 3\n",
        "output_layer_size = 1\n",
        "\n",
        "W1 = np.random.rand(hidden_layer_size, input_layer_size)\n",
        "b1 = np.random.rand(hidden_layer_size, 1)\n",
        "W2 = np.random.rand(output_layer_size, hidden_layer_size)\n",
        "b2 = np.random.rand(output_layer_size, 1)\n",
        "\n",
        "def sigmoid(x):\n",
        "    return 1 / (1 + np.exp(-x))\n",
        "\n",
        "def sigmoid_derivative(x):\n",
        "    return sigmoid(x) * (1 - sigmoid(x))"
      ],
      "metadata": {
        "id": "PC5N1sB1JwMj"
      },
      "execution_count": 149,
      "outputs": []
    },
    {
      "cell_type": "markdown",
      "source": [
        "learning rate, epochs"
      ],
      "metadata": {
        "id": "yJUIynapzHK-"
      }
    },
    {
      "cell_type": "code",
      "source": [
        "alpha = 0.001 #learning rate\n",
        "epochs = 100\n",
        "MSE_list, MAPE_list = [], []"
      ],
      "metadata": {
        "id": "384VN9vNzbaF"
      },
      "execution_count": 150,
      "outputs": []
    },
    {
      "cell_type": "markdown",
      "source": [
        "학습"
      ],
      "metadata": {
        "id": "YMoFfue0zd5e"
      }
    },
    {
      "cell_type": "code",
      "source": [
        "for epoch in range(epochs):\n",
        "    MSE, MAPE = 0,0\n",
        "    for iter in range(num_samples):\n",
        "        input_X = X[iter]\n",
        "\n",
        "        # Feedforward\n",
        "        Z_tilde = W1@input_X.reshape(-1,1)+ b1.reshape(-1,1)\n",
        "        Z = sigmoid(Z_tilde)\n",
        "        y_pred = W2@Z.reshape(-1,1) + b2.reshape(-1,1)\n",
        "\n",
        "        # Calculating the error\n",
        "        J = 1/2*(y_pred-y[iter])**2\n",
        "        MSE += J\n",
        "        MAPE += np.abs((y_pred-y[iter])/y[iter])*100\n",
        "\n",
        "        # Backpropagation\n",
        "        # Output layer --> hidden layer\n",
        "        dJdY = (y_pred-y[iter])\n",
        "        dJdW2_11 = dJdY * Z[0]\n",
        "        dJdW2_12 = dJdY * Z[1]\n",
        "        dJdW2_13 = dJdY * Z[2]\n",
        "        dJdW2_14 = dJdY * Z[3]\n",
        "        dJdb2_1 = dJdY\n",
        "\n",
        "        dJdZ1 = dJdY * W2[0][0]\n",
        "        dJdZ2 = dJdY * W2[0][1]\n",
        "        dJdZ3 = dJdY * W2[0][2]\n",
        "        dJdZ4 = dJdY * W2[0][3]\n",
        "\n",
        "        # Hidden layer --> Input layer\n",
        "        dJdW1_11 = dJdZ1 * input_X[0] * sigmoid_derivative(Z_tilde[0])\n",
        "        dJdW1_12 = dJdZ1 * input_X[1] * sigmoid_derivative(Z_tilde[0])\n",
        "        dJdW1_13 = dJdZ1 * input_X[2] * sigmoid_derivative(Z_tilde[0])\n",
        "\n",
        "        dJdW1_21 = dJdZ2 * input_X[0] * sigmoid_derivative(Z_tilde[1])\n",
        "        dJdW1_22 = dJdZ2 * input_X[1] * sigmoid_derivative(Z_tilde[1])\n",
        "        dJdW1_23 = dJdZ2 * input_X[2] * sigmoid_derivative(Z_tilde[1])\n",
        "\n",
        "        dJdW1_31 = dJdZ3 * input_X[0] * sigmoid_derivative(Z_tilde[2])\n",
        "        dJdW1_32 = dJdZ3 * input_X[1] * sigmoid_derivative(Z_tilde[2])\n",
        "        dJdW1_33 = dJdZ3 * input_X[2] * sigmoid_derivative(Z_tilde[2])\n",
        "\n",
        "        dJdW1_41 = dJdZ4 * input_X[0] * sigmoid_derivative(Z_tilde[3])\n",
        "        dJdW1_42 = dJdZ4 * input_X[1] * sigmoid_derivative(Z_tilde[3])\n",
        "        dJdW1_43 = dJdZ4 * input_X[2] * sigmoid_derivative(Z_tilde[3])\n",
        "\n",
        "        dJdb1_1 = dJdZ1 * sigmoid_derivative(Z_tilde[0])\n",
        "        dJdb1_2 = dJdZ2 * sigmoid_derivative(Z_tilde[1])\n",
        "        dJdb1_3 = dJdZ3 * sigmoid_derivative(Z_tilde[2])\n",
        "        dJdb1_4 = dJdZ4 * sigmoid_derivative(Z_tilde[3])\n",
        "\n",
        "        # Update\n",
        "        W1[0][0] -= alpha * dJdW1_11\n",
        "        W1[0][1] -= alpha * dJdW1_12\n",
        "        W1[0][2] -= alpha * dJdW1_13\n",
        "\n",
        "        W1[1][0] -= alpha * dJdW1_21\n",
        "        W1[1][1] -= alpha * dJdW1_22\n",
        "        W1[1][2] -= alpha * dJdW1_23\n",
        "\n",
        "        W1[2][0] -= alpha * dJdW1_31\n",
        "        W1[2][1] -= alpha * dJdW1_32\n",
        "        W1[2][2] -= alpha * dJdW1_33\n",
        "\n",
        "        W1[3][0] -= alpha * dJdW1_41\n",
        "        W1[3][1] -= alpha * dJdW1_42\n",
        "        W1[3][2] -= alpha * dJdW1_43\n",
        "\n",
        "        b1[0] -= alpha * dJdb1_1[0][0]\n",
        "        b1[1] -= alpha * dJdb1_2[0][0]\n",
        "        b1[2] -= alpha * dJdb1_3[0][0]\n",
        "        b1[3] -= alpha * dJdb1_4[0][0]\n",
        "\n",
        "        W2[0][0] -= alpha * dJdW2_11\n",
        "        W2[0][1] -= alpha * dJdW2_12\n",
        "        W2[0][2] -= alpha * dJdW2_13\n",
        "        W2[0][3] -= alpha * dJdW2_14\n",
        "\n",
        "        b2[0] -= alpha * dJdb2_1[0][0]\n",
        "\n",
        "    MSE /= num_samples\n",
        "    MAPE /= num_samples\n",
        "    MSE_list.append(np.squeeze(MSE))\n",
        "    MAPE_list.append(np.squeeze(MAPE))\n",
        "    if epoch % 5 == 0 or epoch == epochs - 1:\n",
        "        print('MSE and MAPE at epoch ', epoch, ' :',\n",
        "              np.squeeze(MSE), ',', np.squeeze(MAPE))"
      ],
      "metadata": {
        "collapsed": true,
        "id": "BCFpizuszf6-",
        "outputId": "34eca75f-4aab-4408-a917-fd893536d575",
        "colab": {
          "base_uri": "https://localhost:8080/"
        }
      },
      "execution_count": 151,
      "outputs": [
        {
          "output_type": "stream",
          "name": "stderr",
          "text": [
            "<ipython-input-151-3774588698>:53: DeprecationWarning: Conversion of an array with ndim > 0 to a scalar is deprecated, and will error in future. Ensure you extract a single element from your array before performing this operation. (Deprecated NumPy 1.25.)\n",
            "  W1[0][0] -= alpha * dJdW1_11\n",
            "<ipython-input-151-3774588698>:54: DeprecationWarning: Conversion of an array with ndim > 0 to a scalar is deprecated, and will error in future. Ensure you extract a single element from your array before performing this operation. (Deprecated NumPy 1.25.)\n",
            "  W1[0][1] -= alpha * dJdW1_12\n",
            "<ipython-input-151-3774588698>:55: DeprecationWarning: Conversion of an array with ndim > 0 to a scalar is deprecated, and will error in future. Ensure you extract a single element from your array before performing this operation. (Deprecated NumPy 1.25.)\n",
            "  W1[0][2] -= alpha * dJdW1_13\n",
            "<ipython-input-151-3774588698>:57: DeprecationWarning: Conversion of an array with ndim > 0 to a scalar is deprecated, and will error in future. Ensure you extract a single element from your array before performing this operation. (Deprecated NumPy 1.25.)\n",
            "  W1[1][0] -= alpha * dJdW1_21\n",
            "<ipython-input-151-3774588698>:58: DeprecationWarning: Conversion of an array with ndim > 0 to a scalar is deprecated, and will error in future. Ensure you extract a single element from your array before performing this operation. (Deprecated NumPy 1.25.)\n",
            "  W1[1][1] -= alpha * dJdW1_22\n",
            "<ipython-input-151-3774588698>:59: DeprecationWarning: Conversion of an array with ndim > 0 to a scalar is deprecated, and will error in future. Ensure you extract a single element from your array before performing this operation. (Deprecated NumPy 1.25.)\n",
            "  W1[1][2] -= alpha * dJdW1_23\n",
            "<ipython-input-151-3774588698>:61: DeprecationWarning: Conversion of an array with ndim > 0 to a scalar is deprecated, and will error in future. Ensure you extract a single element from your array before performing this operation. (Deprecated NumPy 1.25.)\n",
            "  W1[2][0] -= alpha * dJdW1_31\n",
            "<ipython-input-151-3774588698>:62: DeprecationWarning: Conversion of an array with ndim > 0 to a scalar is deprecated, and will error in future. Ensure you extract a single element from your array before performing this operation. (Deprecated NumPy 1.25.)\n",
            "  W1[2][1] -= alpha * dJdW1_32\n",
            "<ipython-input-151-3774588698>:63: DeprecationWarning: Conversion of an array with ndim > 0 to a scalar is deprecated, and will error in future. Ensure you extract a single element from your array before performing this operation. (Deprecated NumPy 1.25.)\n",
            "  W1[2][2] -= alpha * dJdW1_33\n",
            "<ipython-input-151-3774588698>:65: DeprecationWarning: Conversion of an array with ndim > 0 to a scalar is deprecated, and will error in future. Ensure you extract a single element from your array before performing this operation. (Deprecated NumPy 1.25.)\n",
            "  W1[3][0] -= alpha * dJdW1_41\n",
            "<ipython-input-151-3774588698>:66: DeprecationWarning: Conversion of an array with ndim > 0 to a scalar is deprecated, and will error in future. Ensure you extract a single element from your array before performing this operation. (Deprecated NumPy 1.25.)\n",
            "  W1[3][1] -= alpha * dJdW1_42\n",
            "<ipython-input-151-3774588698>:67: DeprecationWarning: Conversion of an array with ndim > 0 to a scalar is deprecated, and will error in future. Ensure you extract a single element from your array before performing this operation. (Deprecated NumPy 1.25.)\n",
            "  W1[3][2] -= alpha * dJdW1_43\n",
            "<ipython-input-151-3774588698>:74: DeprecationWarning: Conversion of an array with ndim > 0 to a scalar is deprecated, and will error in future. Ensure you extract a single element from your array before performing this operation. (Deprecated NumPy 1.25.)\n",
            "  W2[0][0] -= alpha * dJdW2_11\n",
            "<ipython-input-151-3774588698>:75: DeprecationWarning: Conversion of an array with ndim > 0 to a scalar is deprecated, and will error in future. Ensure you extract a single element from your array before performing this operation. (Deprecated NumPy 1.25.)\n",
            "  W2[0][1] -= alpha * dJdW2_12\n",
            "<ipython-input-151-3774588698>:76: DeprecationWarning: Conversion of an array with ndim > 0 to a scalar is deprecated, and will error in future. Ensure you extract a single element from your array before performing this operation. (Deprecated NumPy 1.25.)\n",
            "  W2[0][2] -= alpha * dJdW2_13\n",
            "<ipython-input-151-3774588698>:77: DeprecationWarning: Conversion of an array with ndim > 0 to a scalar is deprecated, and will error in future. Ensure you extract a single element from your array before performing this operation. (Deprecated NumPy 1.25.)\n",
            "  W2[0][3] -= alpha * dJdW2_14\n"
          ]
        },
        {
          "output_type": "stream",
          "name": "stdout",
          "text": [
            "MSE and MAPE at epoch  0  : 0.820967093845477 , 488.0833448927774\n",
            "MSE and MAPE at epoch  5  : 0.6001845020037522 , 305.41282622555417\n",
            "MSE and MAPE at epoch  10  : 0.5966526335048551 , 303.6731324410201\n",
            "MSE and MAPE at epoch  15  : 0.5930603717782247 , 302.9720713867051\n",
            "MSE and MAPE at epoch  20  : 0.5893326007071101 , 302.22826678778387\n",
            "MSE and MAPE at epoch  25  : 0.5853726951014314 , 301.4108730883664\n",
            "MSE and MAPE at epoch  30  : 0.5810775979592696 , 300.4935006929781\n",
            "MSE and MAPE at epoch  35  : 0.5763342439433308 , 299.44651739093393\n",
            "MSE and MAPE at epoch  40  : 0.5710156043704225 , 298.23579170660287\n",
            "MSE and MAPE at epoch  45  : 0.5649764356244327 , 296.821282672787\n",
            "MSE and MAPE at epoch  50  : 0.5580487278263536 , 295.1553838863609\n",
            "MSE and MAPE at epoch  55  : 0.5500369957274978 , 293.180985467788\n",
            "MSE and MAPE at epoch  60  : 0.540713808675633 , 290.8292539123263\n",
            "MSE and MAPE at epoch  65  : 0.5298163864468538 , 288.0172060799445\n",
            "MSE and MAPE at epoch  70  : 0.5170457726958346 , 284.6452985508697\n",
            "MSE and MAPE at epoch  75  : 0.5020710997611206 , 280.5955046140372\n",
            "MSE and MAPE at epoch  80  : 0.48454273237671336 , 275.7307425283629\n",
            "MSE and MAPE at epoch  85  : 0.4641192837761463 , 269.89704513044586\n",
            "MSE and MAPE at epoch  90  : 0.4405137145000585 , 262.9339028978211\n",
            "MSE and MAPE at epoch  95  : 0.4135612352844418 , 254.69591872618082\n",
            "MSE and MAPE at epoch  99  : 0.38960885678075957 , 247.08888107712653\n"
          ]
        }
      ]
    },
    {
      "cell_type": "markdown",
      "source": [
        "그래프 출력"
      ],
      "metadata": {
        "id": "ei2xip6azjpv"
      }
    },
    {
      "cell_type": "code",
      "source": [
        "plt.figure()\n",
        "plt.plot(np.arange(1,epochs+1), MSE_list, label='MSE', linewidth=1.5, color='b')\n",
        "#plt.yscale('log')\n",
        "plt.xlabel('Epoch')\n",
        "plt.ylabel('Mean Squared Error')\n",
        "plt.title('MSE by Epoch')\n",
        "plt.legend()\n",
        "plt.grid(True)\n",
        "plt.show()\n",
        "\n",
        "plt.figure()\n",
        "plt.plot(np.arange(1,epochs+1), MSE_list, label='MAPE', linewidth=1.5, color='r')\n",
        "#plt.yscale('log')\n",
        "plt.xlabel('Epoch')\n",
        "plt.ylabel('Mean Averaged Percentage Error(%)')\n",
        "plt.title('MAPE by Epoch')\n",
        "plt.legend()\n",
        "plt.grid(True)\n",
        "plt.show()"
      ],
      "metadata": {
        "id": "61pQbAUwzmDE",
        "outputId": "a4228ae3-17cd-46a6-e835-f54a48829d3a",
        "colab": {
          "base_uri": "https://localhost:8080/",
          "height": 927
        }
      },
      "execution_count": 152,
      "outputs": [
        {
          "output_type": "display_data",
          "data": {
            "text/plain": [
              "<Figure size 640x480 with 1 Axes>"
            ],
            "image/png": "[encoded data removed]"
          },
          "metadata": {}
        },
        {
          "output_type": "display_data",
          "data": {
            "text/plain": [
              "<Figure size 640x480 with 1 Axes>"
            ],
            "image/png": "[encoded data removed]"
          },
          "metadata": {}
        }
      ]
    },
    {
      "cell_type": "markdown",
      "source": [
        "# **문제 2) CNN**\n",
        "- Data\n",
        "![image.png](data:image/png;base64,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)"
      ],
      "metadata": {
        "id": "Ot3DiZ45Jk9R"
      }
    },
    {
      "cell_type": "code",
      "execution_count": 1,
      "metadata": {
        "id": "tjF8Ra6k2iEt",
        "outputId": "d76216d7-948e-44d1-9119-dd72c58f05d4",
        "colab": {
          "base_uri": "https://localhost:8080/"
        }
      },
      "outputs": [
        {
          "output_type": "stream",
          "name": "stderr",
          "text": [
            "WARNING:tensorflow:From /usr/local/lib/python3.11/dist-packages/tensorflow/python/compat/v2_compat.py:98: disable_resource_variables (from tensorflow.python.ops.resource_variables_toggle) is deprecated and will be removed in a future version.\n",
            "Instructions for updating:\n",
            "non-resource variables are not supported in the long term\n"
          ]
        }
      ],
      "source": [
        "import tensorflow as tf\n",
        "import numpy as np\n",
        "import matplotlib.pyplot as plt\n",
        "import pandas as pd\n",
        "%matplotlib inline\n",
        "import tensorflow.compat.v1 as tf\n",
        "tf.disable_v2_behavior()\n",
        "from tensorflow.keras.datasets import mnist\n",
        "from tensorflow.keras.utils import to_categorical"
      ]
    },
    {
      "cell_type": "code",
      "source": [
        "from google.colab import drive\n",
        "drive.mount('/content/drive')"
      ],
      "metadata": {
        "id": "oV4TUrge3Udy",
        "outputId": "0b6b4ac3-2427-4120-a157-fa484b803f44",
        "colab": {
          "base_uri": "https://localhost:8080/"
        }
      },
      "execution_count": 3,
      "outputs": [
        {
          "output_type": "stream",
          "name": "stdout",
          "text": [
            "Mounted at /content/drive\n"
          ]
        }
      ]
    },
    {
      "cell_type": "code",
      "source": [
        "# 0,1,2,3,4, and 5 finger image data set\n",
        "\n",
        "train_x = np.load('/content/drive/MyDrive/머신러닝/기말고사/Finger_train_img.npy')\n",
        "train_y = np.load('/content/drive/MyDrive/머신러닝/기말고사/Finger_train_label.npy').reshape(-1)\n",
        "\n",
        "test_x = np.load('/content/drive/MyDrive/머신러닝/기말고사/Finger_test_img.npy')\n",
        "test_y = np.load('/content/drive/MyDrive/머신러닝/기말고사/Finger_test_label.npy').reshape(-1)"
      ],
      "metadata": {
        "id": "XtUFIewY23Cn"
      },
      "execution_count": 4,
      "outputs": []
    },
    {
      "cell_type": "code",
      "source": [
        "test_y.shape"
      ],
      "metadata": {
        "id": "MMy5xqTWnY9m",
        "outputId": "119ff07e-d2f3-478e-c687-6d8561aaf7e1",
        "colab": {
          "base_uri": "https://localhost:8080/"
        }
      },
      "execution_count": 5,
      "outputs": [
        {
          "output_type": "execute_result",
          "data": {
            "text/plain": [
              "(2022,)"
            ]
          },
          "metadata": {},
          "execution_count": 5
        }
      ]
    },
    {
      "cell_type": "markdown",
      "source": [
        "데이터 불러오기"
      ],
      "metadata": {
        "id": "krVjuWY_m-_s"
      }
    },
    {
      "cell_type": "code",
      "source": [
        "train_x, test_x = train_x / 255.0, test_x / 255.0 #모든 픽셀 값을 0.0~1.0 사이의 실수로 정규화 한다. (전처리)\n",
        "train_x = train_x.reshape((-1, 100, 100, 1)) #tf용 reshape\n",
        "test_x = test_x.reshape((-1, 100, 100, 1))"
      ],
      "metadata": {
        "id": "Co8Jry1rnINh"
      },
      "execution_count": 6,
      "outputs": []
    },
    {
      "cell_type": "markdown",
      "source": [
        "커널 설정"
      ],
      "metadata": {
        "id": "gwZwwCNinlXE"
      }
    },
    {
      "cell_type": "code",
      "source": [
        "input_h = 100\n",
        "input_w = 100\n",
        "input_ch = 1  #입력 데이터 정보 100*100 크기, 채널 1 흑백\n",
        "\n",
        "k1_h = 4\n",
        "k1_w = 4 #커널 크기 4*4\n",
        "k1_ch = 32 #커널 개수 32개 -> 첫 번째 conv+pool층에서 특징 32개를 뽑아냄. / train_x : -1,100,100,32가 됨.\n",
        "\n",
        "p1_h = 2\n",
        "p1_w = 2 #풀링 크기 2*2 이미지 크기를 절반으로 줄임. / -1,50,50,32\n",
        "\n",
        "k2_h = 4\n",
        "k2_w = 4 #커널 크기 4*4\n",
        "k2_ch = 64 #커널 개수 64개 / -1,50,50,64\n",
        "\n",
        "p2_h = 2\n",
        "p2_w = 2 #풀링 크기 2*2 절반 크기로 줄임 / -1,25,25,64\n",
        "\n",
        "conv_result_size = 25 * 25 * 64 #마지막 출력은 25,25,64 (4차원) / flatten, 40000개\n",
        "n_hidden = 100 #은닉층 뉴런 100개\n",
        "n_output = 6 #출력 뉴런 수 6개"
      ],
      "metadata": {
        "id": "eGyp3Ocm9rJF"
      },
      "execution_count": 7,
      "outputs": []
    },
    {
      "cell_type": "markdown",
      "source": [
        "가중치 설정"
      ],
      "metadata": {
        "id": "v6Yna2uQo3Yp"
      }
    },
    {
      "cell_type": "code",
      "source": [
        "weights = {\n",
        "    'conv1': tf.Variable(tf.random.normal([k1_h, k1_w, input_ch, k1_ch], stddev=0.1)), #첫 번째 conv층, 4*4 필터가 32개, weight\n",
        "    'conv2': tf.Variable(tf.random.normal([k2_h, k2_w, k1_ch, k2_ch], stddev=0.1)), #두 번째 conv층, 4*4 필터가 64개, weight\n",
        "    'hidden': tf.Variable(tf.random.normal([conv_result_size, n_hidden], stddev=0.1)), #conv 결과를 펼친 후 은닉층에 연결, weight\n",
        "    'output': tf.Variable(tf.random.normal([n_hidden, n_output], stddev=0.1)) #출력층으로 가는 weight\n",
        "}\n",
        "\n",
        "biases = {\n",
        "    'conv1': tf.Variable(tf.random.normal([k1_ch], stddev=0.1)), #뉴런 수만큼 bias 존재, 32개\n",
        "    'conv2': tf.Variable(tf.random.normal([k2_ch], stddev=0.1)), #뉴런 수만큼 bias 존재, 64개\n",
        "    'hidden': tf.Variable(tf.random.normal([n_hidden], stddev=0.1)), #뉴런 수만큼 bias 존재, 100개\n",
        "    'output': tf.Variable(tf.random.normal([n_output], stddev=0.1)) #뉴런 수만큼 bias 존재, 6개\n",
        "}\n",
        "#학습 시 입력값을 받기 위한 자리\n",
        "x = tf.placeholder(tf.float32, [None, input_h, input_w, input_ch]) #입력 이미지\n",
        "y = tf.placeholder(tf.float32, [None, n_output]) #정답(레이블)"
      ],
      "metadata": {
        "id": "FbhdWswNo5MS"
      },
      "execution_count": 8,
      "outputs": []
    },
    {
      "cell_type": "markdown",
      "source": [
        "모델 설계"
      ],
      "metadata": {
        "id": "fhR1ztlrpSVW"
      }
    },
    {
      "cell_type": "code",
      "source": [
        "def net(x, weights, biases):\n",
        "    conv1 = tf.nn.conv2d(x, weights['conv1'], strides=[1,1,1,1], padding='SAME') #100*100*1의 입력을 4*4*1*32의 필터가 한 칸식 움직이며 -1,100,100,32 만큼 출력함\n",
        "    conv1 = tf.nn.relu(conv1 + biases['conv1']) #relu, 비선형 활성화 함수, 모든 음수를 0으로 만든다.\n",
        "    maxp1 = tf.nn.max_pool2d(conv1, ksize=[1, p1_h, p1_w, 1], strides=[1, p1_h, p1_w, 1], padding='SAME') #-1,100,100,32 입력을 2*2의 커널이 2씩 움직임 / -1,50,50,32\n",
        "\n",
        "    conv2 = tf.nn.conv2d(maxp1, weights['conv2'], strides=[1,1,1,1], padding='SAME') #같은 단계 반복, -1,50,50,64\n",
        "    conv2 = tf.nn.relu(conv2 + biases['conv2'])\n",
        "    maxp2 = tf.nn.max_pool2d(conv2, ksize=[1, p2_h, p2_w, 1], strides=[1, p2_h, p2_w, 1], padding='SAME') #같은 단계 반복, -1,25,25,64\n",
        "\n",
        "    flatten = tf.reshape(maxp2, [-1, conv_result_size]) #-1,25,25,64를 flatten함\n",
        "    fc1 = tf.nn.relu(tf.matmul(flatten, weights['hidden']) + biases['hidden']) #40000개의 값 각각이 100개의 출력 뉴런과 연결되어 있음, relu로 활성화\n",
        "    output = tf.matmul(fc1, weights['output']) + biases['output'] #softmax를 적용하지 않은 6개의 출력값\n",
        "    return output #softmax 전에 나온 생 출력값"
      ],
      "metadata": {
        "id": "Rbw9sVvGpTnW"
      },
      "execution_count": 9,
      "outputs": []
    },
    {
      "cell_type": "markdown",
      "source": [
        "하이퍼파라미터, 손실함수 설정"
      ],
      "metadata": {
        "id": "ejBP-SE7p4QL"
      }
    },
    {
      "cell_type": "code",
      "source": [
        "LR = 0.0001 #학습률, 하이퍼파라미터의 하나\n",
        "pred = net(x, weights, biases) #x를 넣으면 예측 결과가 나오는 함수 작동\n",
        "loss = tf.reduce_mean(tf.nn.softmax_cross_entropy_with_logits_v2(logits=pred, labels=y)) #softmax와 cross 엔트로피를 동시 진행, 손실 출력\n",
        "optm = tf.train.AdamOptimizer(learning_rate=LR).minimize(loss) #최적화, 얼마나 빠르게 가중치를 조정할지, 가중치 업데이트 준비"
      ],
      "metadata": {
        "id": "Lri-MguCp6ox"
      },
      "execution_count": 10,
      "outputs": []
    },
    {
      "cell_type": "markdown",
      "source": [
        "학습"
      ],
      "metadata": {
        "id": "gmtYeZkNqb7d"
      }
    },
    {
      "cell_type": "code",
      "source": [
        "n_batch = 50 #한 번에 학습하는 데이터 수\n",
        "n_iter = 1500 #전체 학습 반복 횟수\n",
        "n_prt = 250 #몇 번마다 중간 결과 출력할지\n",
        "\n",
        "sess = tf.Session() #세션을 통해 연산을 실행함\n",
        "sess.run(tf.global_variables_initializer()) #초기화\n",
        "\n",
        "loss_record_train = []\n",
        "loss_record_test = []\n",
        "\n",
        "for epoch in range(n_iter): #2500번 배치 학습\n",
        "    # 랜덤 배치 생성\n",
        "    batch_indices = np.random.choice(train_x.shape[0], size=n_batch, replace=False) #50개를 무작위로 샘플링 (한 번에 학습하는 데이터 수)\n",
        "    batch_x = train_x[batch_indices]\n",
        "    batch_y = to_categorical(train_y[batch_indices], num_classes=6)\n",
        "\n",
        "    sess.run(optm, feed_dict={x: batch_x, y: batch_y}) #모델 학습, forward, backward, weight update, optimizer 연산\n",
        "\n",
        "    if epoch % n_prt == 0: #2500번 중 250번 마다 중간 테스트, 진행상황 기록\n",
        "        # 테스트 데이터 배치\n",
        "        test_indices = np.random.choice(test_x.shape[0], size=n_batch, replace=False)\n",
        "        test_batch_x = test_x[test_indices]\n",
        "        test_batch_y = to_categorical(test_y[test_indices], num_classes=6)\n",
        "\n",
        "        train_loss = sess.run(loss, feed_dict={x: batch_x, y: batch_y})\n",
        "        test_loss = sess.run(loss, feed_dict={x: test_batch_x, y: test_batch_y})\n",
        "\n",
        "        loss_record_train.append(train_loss)\n",
        "        loss_record_test.append(test_loss)\n",
        "\n",
        "        print(\"Iter : {}\".format(epoch))\n",
        "        print(\"Train Loss : {:.4f}\".format(train_loss))\n",
        "        print(\"Test Loss : {:.4f}\".format(test_loss))"
      ],
      "metadata": {
        "id": "jahlfKnrqc_F",
        "outputId": "0d2cf6b4-04e0-4ee3-b55f-af7e82fc2c1b",
        "colab": {
          "base_uri": "https://localhost:8080/"
        }
      },
      "execution_count": 44,
      "outputs": [
        {
          "output_type": "stream",
          "name": "stdout",
          "text": [
            "Iter : 0\n",
            "Train Loss : 6.3969\n",
            "Test Loss : 5.9177\n",
            "Iter : 250\n",
            "Train Loss : 0.4166\n",
            "Test Loss : 0.4724\n",
            "Iter : 500\n",
            "Train Loss : 0.3238\n",
            "Test Loss : 0.4431\n",
            "Iter : 750\n",
            "Train Loss : 0.3026\n",
            "Test Loss : 0.5198\n",
            "Iter : 1000\n",
            "Train Loss : 0.1456\n",
            "Test Loss : 0.5634\n",
            "Iter : 1250\n",
            "Train Loss : 0.1403\n",
            "Test Loss : 0.6095\n"
          ]
        }
      ]
    },
    {
      "cell_type": "markdown",
      "source": [
        "정확도 출력"
      ],
      "metadata": {
        "id": "NntZXe1IwITr"
      }
    },
    {
      "cell_type": "code",
      "source": [
        "test_batch_indices = np.random.choice(test_x.shape[0], size=n_batch, replace=False) #test에서 무작위 추출\n",
        "test_batch_x = test_x[test_batch_indices]\n",
        "test_batch_y = test_y[test_batch_indices]\n",
        "\n",
        "test_batch_x = test_batch_x.reshape((n_batch, input_h, input_w, input_ch))  # Reshape the batch if needed\n",
        "# Convert labels to one-hot encoding if necessary\n",
        "test_batch_y = tf.keras.utils.to_categorical(test_batch_y, num_classes=6)  # Adjust num_classes if needed\n",
        "\n",
        "my_pred = sess.run(pred, feed_dict={x: test_batch_x.reshape(-1, 100, 100, 1)})\n",
        "my_pred = np.argmax(my_pred, axis=1) #6개 output 중 최대값 1개 뽑기\n",
        "\n",
        "labels = np.argmax(test_batch_y, axis=1) #레이블을 인덱스로 변환\n",
        "\n",
        "accr = np.mean(np.equal(my_pred, labels)) #정확도 계산\n",
        "print(\"Accuracy : {}\".format(accr*100))"
      ],
      "metadata": {
        "id": "cKNK7sE0wJ_D",
        "outputId": "a53fcac6-bbaa-4f83-fc6a-4bbf55fb4e0b",
        "colab": {
          "base_uri": "https://localhost:8080/"
        }
      },
      "execution_count": 64,
      "outputs": [
        {
          "output_type": "stream",
          "name": "stdout",
          "text": [
            "Accuracy : 90.0\n"
          ]
        }
      ]
    },
    {
      "cell_type": "markdown",
      "source": [
        "# **문제 3) K-means clustering**"
      ],
      "metadata": {
        "id": "hXEPBzlZ8z8x"
      }
    },
    {
      "cell_type": "code",
      "execution_count": null,
      "metadata": {
        "id": "_9kBlVKtpLiU"
      },
      "outputs": [],
      "source": [
        "import numpy as np\n",
        "import matplotlib.pyplot as plt\n",
        "\n",
        "np.random.seed(0)\n",
        "data1 = np.array((np.random.normal(0, 0.2, 100), np.random.normal(0.0, 0.4, 100)))\n",
        "data2 = np.array((np.random.normal(1.2, 0.3, 100), np.random.normal(1.1, 0.7, 100)))\n",
        "data3 = np.array((np.random.normal(1.6, 0.2, 100), np.random.normal(1.8, 0.7, 100)))\n",
        "data4 = np.array((np.random.normal(0.3, 0.1, 100), np.random.normal(0.5, 0.3, 100)))"
      ]
    },
    {
      "cell_type": "code",
      "source": [],
      "metadata": {
        "id": "r7bmioa1NfYq"
      },
      "execution_count": null,
      "outputs": []
    }
  ]
}